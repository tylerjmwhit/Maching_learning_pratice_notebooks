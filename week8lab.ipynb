{
  "cells": [
    {
      "cell_type": "markdown",
      "metadata": {
        "id": "view-in-github",
        "colab_type": "text"
      },
      "source": [
        "<a href=\"https://colab.research.google.com/github/tylerjmwhit/Maching_learning_pratice_notebooks/blob/main/week8lab.ipynb\" target=\"_parent\"><img src=\"https://colab.research.google.com/assets/colab-badge.svg\" alt=\"Open In Colab\"/></a>"
      ]
    },
    {
      "cell_type": "code",
      "execution_count": null,
      "metadata": {
        "id": "fR8TMCrP5cl2"
      },
      "outputs": [],
      "source": [
        "import numpy as np\n",
        "import pandas as pd\n",
        "import matplotlib.pyplot as plt\n",
        "from sklearn.metrics import classification_report\n",
        "from sklearn.model_selection import GridSearchCV\n",
        "from sklearn.model_selection import RandomizedSearchCV\n",
        "from tensorflow.keras.datasets.mnist import load_data\n",
        "import tensorflow as tf"
      ]
    },
    {
      "cell_type": "code",
      "execution_count": null,
      "metadata": {
        "id": "C4Mj5Jvz5306"
      },
      "outputs": [],
      "source": [
        "from keras.layers import Dense\n",
        "from keras.models import Sequential\n",
        "from keras.wrappers.scikit_learn import KerasClassifier\n",
        "from sklearn.model_selection import StratifiedKFold\n",
        "from sklearn.model_selection import cross_val_score"
      ]
    },
    {
      "cell_type": "code",
      "execution_count": null,
      "metadata": {
        "id": "rL-L5uLr5o7R",
        "colab": {
          "base_uri": "https://localhost:8080/"
        },
        "outputId": "9c892d29-6cc5-4c39-d608-4aa6aad43ae2"
      },
      "outputs": [
        {
          "output_type": "stream",
          "name": "stdout",
          "text": [
            "Downloading data from https://storage.googleapis.com/tensorflow/tf-keras-datasets/mnist.npz\n",
            "11490434/11490434 [==============================] - 1s 0us/step\n"
          ]
        }
      ],
      "source": [
        "(train_x, train_y), (test_x, test_y) = load_data() #loading MNIST DATA"
      ]
    },
    {
      "cell_type": "code",
      "execution_count": null,
      "metadata": {
        "id": "WovciHFZ5pdo"
      },
      "outputs": [],
      "source": [
        "# my rotations\n",
        "train_x_90 = np.rot90(train_x[15000:45000],axes=(1,2))    #rotating some 90\n",
        "train_x_180 = np.rot90(train_x[:30000],2,axes=(1,2)) #rotating some 180\n",
        "train_x_270 = np.rot90(train_x[30000:],3,axes=(1,2)) #rotating some 270"
      ]
    },
    {
      "cell_type": "code",
      "execution_count": null,
      "metadata": {
        "id": "WA0TyLKW5t-h"
      },
      "outputs": [],
      "source": [
        "# Putting all arrays together into data set\n",
        "train_x_expanded = []\n",
        "train_x_expanded = np.concatenate((train_x,train_x_90,train_x_180,train_x_270))"
      ]
    },
    {
      "cell_type": "code",
      "execution_count": null,
      "metadata": {
        "id": "i-0k2lyA5wVo"
      },
      "outputs": [],
      "source": [
        "#now to make the train_y data set match up\n",
        "train_y_90 = train_y[15000:45000]   #rotating some 90\n",
        "train_y_180 = train_y[:30000] #rotating some 180\n",
        "train_y_270 = train_y[30000:] #rotating some 270"
      ]
    },
    {
      "cell_type": "code",
      "execution_count": null,
      "metadata": {
        "colab": {
          "base_uri": "https://localhost:8080/"
        },
        "id": "7INJub525ybR",
        "outputId": "3bce98c2-8a44-42fd-8a8f-838db98b68d4"
      },
      "outputs": [
        {
          "output_type": "stream",
          "name": "stdout",
          "text": [
            "(150000, 784) (150000,)\n"
          ]
        }
      ],
      "source": [
        "train_y_expanded = []\n",
        "train_y_expanded = np.concatenate((train_y,train_y_90,train_y_180,train_y_270))\n",
        "train_x_expanded = train_x_expanded.reshape(-1,784)\n",
        "print(train_x_expanded.shape,train_y_expanded.shape)\n"
      ]
    },
    {
      "cell_type": "code",
      "execution_count": null,
      "metadata": {
        "colab": {
          "base_uri": "https://localhost:8080/"
        },
        "id": "8pc49SQc5zIH",
        "outputId": "504a80c7-8aea-42b3-a4dd-482da10943bc"
      },
      "outputs": [
        {
          "output_type": "stream",
          "name": "stderr",
          "text": [
            "<ipython-input-8-7624e4f57e05>:13: DeprecationWarning: KerasClassifier is deprecated, use Sci-Keras (https://github.com/adriangb/scikeras) instead. See https://www.adriangb.com/scikeras/stable/migration.html for help migrating.\n",
            "  classifier = KerasClassifier(build_fn=create_model)\n"
          ]
        }
      ],
      "source": [
        "# Function to create model, required for KerasClassifier\n",
        "def create_model(first_hidden_layer_size, second_hidden_layer_size, solver, act):\n",
        "\t# create model\n",
        "\tmodel = Sequential()\n",
        "\tmodel.add(Dense(first_hidden_layer_size, input_shape=(784,), activation=act))\n",
        "\n",
        "\tmodel.add(Dense(second_hidden_layer_size, activation=act))\n",
        "\tmodel.add(Dense(10, activation='softmax'))\n",
        "\t# Compile model\n",
        "\tmodel.compile(loss='categorical_crossentropy', optimizer=solver, metrics=['accuracy'])\n",
        "\treturn model\n",
        "\n",
        "classifier = KerasClassifier(build_fn=create_model)"
      ]
    },
    {
      "cell_type": "code",
      "execution_count": null,
      "metadata": {
        "colab": {
          "base_uri": "https://localhost:8080/"
        },
        "id": "2wlRTeBV6jPE",
        "outputId": "cb03f4bf-c587-43dd-b7f2-8e172f7d8bf5"
      },
      "outputs": [
        {
          "output_type": "stream",
          "name": "stdout",
          "text": [
            "Fitting 3 folds for each of 10 candidates, totalling 30 fits\n",
            "3125/3125 [==============================] - 16s 4ms/step - loss: 1.6008 - accuracy: 0.4476\n",
            "1563/1563 [==============================] - 3s 2ms/step - loss: 1.7011 - accuracy: 0.3523\n",
            "[CV] END act=sigmoid, first_hidden_layer_size=20, second_hidden_layer_size=20, solver=adam; total time=  23.4s\n",
            "3125/3125 [==============================] - 7s 2ms/step - loss: 1.4815 - accuracy: 0.5227\n",
            "1563/1563 [==============================] - 3s 2ms/step - loss: 1.9158 - accuracy: 0.3637\n",
            "[CV] END act=sigmoid, first_hidden_layer_size=20, second_hidden_layer_size=20, solver=adam; total time=  16.1s\n",
            "3125/3125 [==============================] - 8s 2ms/step - loss: 1.4125 - accuracy: 0.5499\n",
            "1563/1563 [==============================] - 3s 2ms/step - loss: 2.1831 - accuracy: 0.2508\n",
            "[CV] END act=sigmoid, first_hidden_layer_size=20, second_hidden_layer_size=20, solver=adam; total time=  13.7s\n",
            "3125/3125 [==============================] - 8s 2ms/step - loss: 1.3953 - accuracy: 0.5121\n",
            "1563/1563 [==============================] - 3s 2ms/step - loss: 1.6468 - accuracy: 0.3967\n",
            "[CV] END act=tanh, first_hidden_layer_size=30, second_hidden_layer_size=20, solver=RMSprop; total time=  13.7s\n",
            "3125/3125 [==============================] - 7s 2ms/step - loss: 1.2483 - accuracy: 0.5753\n",
            "1355/1563 [=========================>....] - ETA: 0s - loss: 2.1345 - accuracy: 0.3571"
          ]
        }
      ],
      "source": [
        "from tensorflow.keras.utils import to_categorical\n",
        "param_grid = {\n",
        "    \"first_hidden_layer_size\": [10, 20, 30],\n",
        "    \"second_hidden_layer_size\": [20, 30, 40],\n",
        "    \"act\":[\"relu\",\"sigmoid\",\"tanh\"],\n",
        "    \"solver\": ['RMSprop', 'sgd', 'adam']\n",
        "}\n",
        "gs = RandomizedSearchCV(classifier, param_grid, cv = 3, verbose = 2,  )\n",
        "gs.fit(train_x_expanded,to_categorical(train_y_expanded))"
      ]
    },
    {
      "cell_type": "code",
      "source": [
        "df = pd.DataFrame(gs.cv_results_['params'])\n",
        "df['mean_test_score'] = gs.cv_results_['mean_test_score']\n",
        "df"
      ],
      "metadata": {
        "colab": {
          "base_uri": "https://localhost:8080/",
          "height": 363
        },
        "id": "cT0OKBYhZoEt",
        "outputId": "d49a56e7-5c7a-4903-9a44-f97c3575fa8b"
      },
      "execution_count": null,
      "outputs": [
        {
          "output_type": "execute_result",
          "data": {
            "text/plain": [
              "    solver  second_hidden_layer_size  first_hidden_layer_size      act  \\\n",
              "0      sgd                        20                       20     relu   \n",
              "1  RMSprop                        30                       10  sigmoid   \n",
              "2     adam                        20                       10     relu   \n",
              "3     adam                        40                       30     tanh   \n",
              "4     adam                        30                       30  sigmoid   \n",
              "5     adam                        40                       30  sigmoid   \n",
              "6      sgd                        30                       20     tanh   \n",
              "7     adam                        30                       10     tanh   \n",
              "8      sgd                        30                       30     relu   \n",
              "9      sgd                        30                       20  sigmoid   \n",
              "\n",
              "   mean_test_score  \n",
              "0         0.124660  \n",
              "1         0.321667  \n",
              "2         0.195220  \n",
              "3         0.342553  \n",
              "4         0.327133  \n",
              "5         0.324613  \n",
              "6         0.297713  \n",
              "7         0.298327  \n",
              "8         0.112807  \n",
              "9         0.326747  "
            ],
            "text/html": [
              "\n",
              "  <div id=\"df-e2b00836-de1d-44d1-8d28-7c1de4a88ed3\">\n",
              "    <div class=\"colab-df-container\">\n",
              "      <div>\n",
              "<style scoped>\n",
              "    .dataframe tbody tr th:only-of-type {\n",
              "        vertical-align: middle;\n",
              "    }\n",
              "\n",
              "    .dataframe tbody tr th {\n",
              "        vertical-align: top;\n",
              "    }\n",
              "\n",
              "    .dataframe thead th {\n",
              "        text-align: right;\n",
              "    }\n",
              "</style>\n",
              "<table border=\"1\" class=\"dataframe\">\n",
              "  <thead>\n",
              "    <tr style=\"text-align: right;\">\n",
              "      <th></th>\n",
              "      <th>solver</th>\n",
              "      <th>second_hidden_layer_size</th>\n",
              "      <th>first_hidden_layer_size</th>\n",
              "      <th>act</th>\n",
              "      <th>mean_test_score</th>\n",
              "    </tr>\n",
              "  </thead>\n",
              "  <tbody>\n",
              "    <tr>\n",
              "      <th>0</th>\n",
              "      <td>sgd</td>\n",
              "      <td>20</td>\n",
              "      <td>20</td>\n",
              "      <td>relu</td>\n",
              "      <td>0.124660</td>\n",
              "    </tr>\n",
              "    <tr>\n",
              "      <th>1</th>\n",
              "      <td>RMSprop</td>\n",
              "      <td>30</td>\n",
              "      <td>10</td>\n",
              "      <td>sigmoid</td>\n",
              "      <td>0.321667</td>\n",
              "    </tr>\n",
              "    <tr>\n",
              "      <th>2</th>\n",
              "      <td>adam</td>\n",
              "      <td>20</td>\n",
              "      <td>10</td>\n",
              "      <td>relu</td>\n",
              "      <td>0.195220</td>\n",
              "    </tr>\n",
              "    <tr>\n",
              "      <th>3</th>\n",
              "      <td>adam</td>\n",
              "      <td>40</td>\n",
              "      <td>30</td>\n",
              "      <td>tanh</td>\n",
              "      <td>0.342553</td>\n",
              "    </tr>\n",
              "    <tr>\n",
              "      <th>4</th>\n",
              "      <td>adam</td>\n",
              "      <td>30</td>\n",
              "      <td>30</td>\n",
              "      <td>sigmoid</td>\n",
              "      <td>0.327133</td>\n",
              "    </tr>\n",
              "    <tr>\n",
              "      <th>5</th>\n",
              "      <td>adam</td>\n",
              "      <td>40</td>\n",
              "      <td>30</td>\n",
              "      <td>sigmoid</td>\n",
              "      <td>0.324613</td>\n",
              "    </tr>\n",
              "    <tr>\n",
              "      <th>6</th>\n",
              "      <td>sgd</td>\n",
              "      <td>30</td>\n",
              "      <td>20</td>\n",
              "      <td>tanh</td>\n",
              "      <td>0.297713</td>\n",
              "    </tr>\n",
              "    <tr>\n",
              "      <th>7</th>\n",
              "      <td>adam</td>\n",
              "      <td>30</td>\n",
              "      <td>10</td>\n",
              "      <td>tanh</td>\n",
              "      <td>0.298327</td>\n",
              "    </tr>\n",
              "    <tr>\n",
              "      <th>8</th>\n",
              "      <td>sgd</td>\n",
              "      <td>30</td>\n",
              "      <td>30</td>\n",
              "      <td>relu</td>\n",
              "      <td>0.112807</td>\n",
              "    </tr>\n",
              "    <tr>\n",
              "      <th>9</th>\n",
              "      <td>sgd</td>\n",
              "      <td>30</td>\n",
              "      <td>20</td>\n",
              "      <td>sigmoid</td>\n",
              "      <td>0.326747</td>\n",
              "    </tr>\n",
              "  </tbody>\n",
              "</table>\n",
              "</div>\n",
              "      <button class=\"colab-df-convert\" onclick=\"convertToInteractive('df-e2b00836-de1d-44d1-8d28-7c1de4a88ed3')\"\n",
              "              title=\"Convert this dataframe to an interactive table.\"\n",
              "              style=\"display:none;\">\n",
              "        \n",
              "  <svg xmlns=\"http://www.w3.org/2000/svg\" height=\"24px\"viewBox=\"0 0 24 24\"\n",
              "       width=\"24px\">\n",
              "    <path d=\"M0 0h24v24H0V0z\" fill=\"none\"/>\n",
              "    <path d=\"M18.56 5.44l.94 2.06.94-2.06 2.06-.94-2.06-.94-.94-2.06-.94 2.06-2.06.94zm-11 1L8.5 8.5l.94-2.06 2.06-.94-2.06-.94L8.5 2.5l-.94 2.06-2.06.94zm10 10l.94 2.06.94-2.06 2.06-.94-2.06-.94-.94-2.06-.94 2.06-2.06.94z\"/><path d=\"M17.41 7.96l-1.37-1.37c-.4-.4-.92-.59-1.43-.59-.52 0-1.04.2-1.43.59L10.3 9.45l-7.72 7.72c-.78.78-.78 2.05 0 2.83L4 21.41c.39.39.9.59 1.41.59.51 0 1.02-.2 1.41-.59l7.78-7.78 2.81-2.81c.8-.78.8-2.07 0-2.86zM5.41 20L4 18.59l7.72-7.72 1.47 1.35L5.41 20z\"/>\n",
              "  </svg>\n",
              "      </button>\n",
              "      \n",
              "  <style>\n",
              "    .colab-df-container {\n",
              "      display:flex;\n",
              "      flex-wrap:wrap;\n",
              "      gap: 12px;\n",
              "    }\n",
              "\n",
              "    .colab-df-convert {\n",
              "      background-color: #E8F0FE;\n",
              "      border: none;\n",
              "      border-radius: 50%;\n",
              "      cursor: pointer;\n",
              "      display: none;\n",
              "      fill: #1967D2;\n",
              "      height: 32px;\n",
              "      padding: 0 0 0 0;\n",
              "      width: 32px;\n",
              "    }\n",
              "\n",
              "    .colab-df-convert:hover {\n",
              "      background-color: #E2EBFA;\n",
              "      box-shadow: 0px 1px 2px rgba(60, 64, 67, 0.3), 0px 1px 3px 1px rgba(60, 64, 67, 0.15);\n",
              "      fill: #174EA6;\n",
              "    }\n",
              "\n",
              "    [theme=dark] .colab-df-convert {\n",
              "      background-color: #3B4455;\n",
              "      fill: #D2E3FC;\n",
              "    }\n",
              "\n",
              "    [theme=dark] .colab-df-convert:hover {\n",
              "      background-color: #434B5C;\n",
              "      box-shadow: 0px 1px 3px 1px rgba(0, 0, 0, 0.15);\n",
              "      filter: drop-shadow(0px 1px 2px rgba(0, 0, 0, 0.3));\n",
              "      fill: #FFFFFF;\n",
              "    }\n",
              "  </style>\n",
              "\n",
              "      <script>\n",
              "        const buttonEl =\n",
              "          document.querySelector('#df-e2b00836-de1d-44d1-8d28-7c1de4a88ed3 button.colab-df-convert');\n",
              "        buttonEl.style.display =\n",
              "          google.colab.kernel.accessAllowed ? 'block' : 'none';\n",
              "\n",
              "        async function convertToInteractive(key) {\n",
              "          const element = document.querySelector('#df-e2b00836-de1d-44d1-8d28-7c1de4a88ed3');\n",
              "          const dataTable =\n",
              "            await google.colab.kernel.invokeFunction('convertToInteractive',\n",
              "                                                     [key], {});\n",
              "          if (!dataTable) return;\n",
              "\n",
              "          const docLinkHtml = 'Like what you see? Visit the ' +\n",
              "            '<a target=\"_blank\" href=https://colab.research.google.com/notebooks/data_table.ipynb>data table notebook</a>'\n",
              "            + ' to learn more about interactive tables.';\n",
              "          element.innerHTML = '';\n",
              "          dataTable['output_type'] = 'display_data';\n",
              "          await google.colab.output.renderOutput(dataTable, element);\n",
              "          const docLink = document.createElement('div');\n",
              "          docLink.innerHTML = docLinkHtml;\n",
              "          element.appendChild(docLink);\n",
              "        }\n",
              "      </script>\n",
              "    </div>\n",
              "  </div>\n",
              "  "
            ]
          },
          "metadata": {},
          "execution_count": 20
        }
      ]
    },
    {
      "cell_type": "code",
      "source": [],
      "metadata": {
        "id": "LphSfs-lZqx8"
      },
      "execution_count": null,
      "outputs": []
    }
  ],
  "metadata": {
    "colab": {
      "provenance": [],
      "authorship_tag": "ABX9TyNj7AApOpSSUl9Nw/N6i944",
      "include_colab_link": true
    },
    "kernelspec": {
      "display_name": "Python 3",
      "name": "python3"
    },
    "language_info": {
      "name": "python"
    }
  },
  "nbformat": 4,
  "nbformat_minor": 0
}