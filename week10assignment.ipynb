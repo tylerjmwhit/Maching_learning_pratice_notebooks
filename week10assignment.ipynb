{
  "nbformat": 4,
  "nbformat_minor": 0,
  "metadata": {
    "colab": {
      "provenance": [],
      "authorship_tag": "ABX9TyMncTn0g2wcuX4nQ1+x6Upu",
      "include_colab_link": true
    },
    "kernelspec": {
      "name": "python3",
      "display_name": "Python 3"
    },
    "language_info": {
      "name": "python"
    }
  },
  "cells": [
    {
      "cell_type": "markdown",
      "metadata": {
        "id": "view-in-github",
        "colab_type": "text"
      },
      "source": [
        "<a href=\"https://colab.research.google.com/github/tylerjmwhit/Maching_learning_pratice_notebooks/blob/main/week10assignment.ipynb\" target=\"_parent\"><img src=\"https://colab.research.google.com/assets/colab-badge.svg\" alt=\"Open In Colab\"/></a>"
      ]
    },
    {
      "cell_type": "code",
      "execution_count": null,
      "metadata": {
        "id": "YaMsewtRVIIM"
      },
      "outputs": [],
      "source": [
        "import numpy as np\n",
        "from sklearn.datasets import load_breast_cancer\n",
        "from sklearn.metrics import classification_report, confusion_matrix,accuracy_score"
      ]
    },
    {
      "cell_type": "markdown",
      "source": [
        "Part 1:\n",
        "Exercise 1: Grid Search\n",
        "\n",
        "For one of the supervised learning methods that we learned this week (i.e. K-Neighbours, Naive Bayes, Support Vector Machines or Decision Trees) look into the documentation of the estimator and find 3 parameters, and choose 2 or more different values of each parameter and perform a grid search hyperparameter optimization to find what combination of parameters best models the dataset of your choosing from sklearn.datasets."
      ],
      "metadata": {
        "id": "xzTtRUOHWvWG"
      }
    },
    {
      "cell_type": "code",
      "source": [
        "my_df = load_breast_cancer()\n",
        "X_train = my_df.data\n",
        "Y_train = my_df.target"
      ],
      "metadata": {
        "id": "5NOLVFZ0VQdQ"
      },
      "execution_count": null,
      "outputs": []
    },
    {
      "cell_type": "code",
      "source": [
        "from sklearn.ensemble import RandomForestClassifier\n",
        "rfc = RandomForestClassifier()\n",
        "rfc.fit(X_train,Y_train)\n",
        "preds = rfc.predict(X_train)\n",
        "print(confusion_matrix(preds,Y_train))\n",
        "accuracy_score(Y_train,preds)\n"
      ],
      "metadata": {
        "colab": {
          "base_uri": "https://localhost:8080/"
        },
        "id": "TKeYZxHTVPrU",
        "outputId": "8d335010-fddc-4a4a-b935-62500f82bfc4"
      },
      "execution_count": null,
      "outputs": [
        {
          "output_type": "stream",
          "name": "stdout",
          "text": [
            "[[212   0]\n",
            " [  0 357]]\n"
          ]
        },
        {
          "output_type": "execute_result",
          "data": {
            "text/plain": [
              "1.0"
            ]
          },
          "metadata": {},
          "execution_count": 7
        }
      ]
    },
    {
      "cell_type": "markdown",
      "source": [
        "getting the parameters and gridsearch loaded up for random forest for the breast cancer data set"
      ],
      "metadata": {
        "id": "IH3CPLtgWCcK"
      }
    },
    {
      "cell_type": "code",
      "source": [
        "from sklearn.model_selection import GridSearchCV\n",
        "parameters = {'criterion' : ('gini','entropy') , 'max_features': ('sqrt' , 'log2'), 'min_samples_leaf' : [1,2,3]  }\n",
        "rfc = RandomForestClassifier()\n",
        "clf = GridSearchCV(rfc, parameters)\n",
        "clf.fit(X_train,Y_train)"
      ],
      "metadata": {
        "colab": {
          "base_uri": "https://localhost:8080/"
        },
        "id": "R16GoXCXV_tB",
        "outputId": "193070a9-6fe4-401b-ddc2-97cc4c993f4f"
      },
      "execution_count": null,
      "outputs": [
        {
          "output_type": "execute_result",
          "data": {
            "text/plain": [
              "GridSearchCV(estimator=RandomForestClassifier(),\n",
              "             param_grid={'criterion': ('gini', 'entropy'),\n",
              "                         'max_features': ('sqrt', 'log2'),\n",
              "                         'min_samples_leaf': [1, 2, 3]})"
            ]
          },
          "metadata": {},
          "execution_count": 8
        }
      ]
    },
    {
      "cell_type": "code",
      "source": [
        "import pandas as pd\n",
        "df = pd.DataFrame(clf.cv_results_['params'])\n",
        "df['mean_test_score'] = clf.cv_results_['mean_test_score']\n",
        "df.sort_values('mean_test_score')"
      ],
      "metadata": {
        "colab": {
          "base_uri": "https://localhost:8080/",
          "height": 426
        },
        "id": "YxKkRStiWVJJ",
        "outputId": "e2bb4822-15c2-49c7-f5e5-54a2d96755a0"
      },
      "execution_count": null,
      "outputs": [
        {
          "output_type": "execute_result",
          "data": {
            "text/plain": [
              "   criterion max_features  min_samples_leaf  mean_test_score\n",
              "2       gini         sqrt                 3         0.956094\n",
              "5       gini         log2                 3         0.956094\n",
              "4       gini         log2                 2         0.957817\n",
              "11   entropy         log2                 3         0.957848\n",
              "10   entropy         log2                 2         0.959618\n",
              "0       gini         sqrt                 1         0.961357\n",
              "1       gini         sqrt                 2         0.961357\n",
              "7    entropy         sqrt                 2         0.961357\n",
              "8    entropy         sqrt                 3         0.961372\n",
              "9    entropy         log2                 1         0.963111\n",
              "3       gini         log2                 1         0.963127\n",
              "6    entropy         sqrt                 1         0.968374"
            ],
            "text/html": [
              "\n",
              "  <div id=\"df-4fed0081-35ee-4e6e-9f37-752e161af5c1\">\n",
              "    <div class=\"colab-df-container\">\n",
              "      <div>\n",
              "<style scoped>\n",
              "    .dataframe tbody tr th:only-of-type {\n",
              "        vertical-align: middle;\n",
              "    }\n",
              "\n",
              "    .dataframe tbody tr th {\n",
              "        vertical-align: top;\n",
              "    }\n",
              "\n",
              "    .dataframe thead th {\n",
              "        text-align: right;\n",
              "    }\n",
              "</style>\n",
              "<table border=\"1\" class=\"dataframe\">\n",
              "  <thead>\n",
              "    <tr style=\"text-align: right;\">\n",
              "      <th></th>\n",
              "      <th>criterion</th>\n",
              "      <th>max_features</th>\n",
              "      <th>min_samples_leaf</th>\n",
              "      <th>mean_test_score</th>\n",
              "    </tr>\n",
              "  </thead>\n",
              "  <tbody>\n",
              "    <tr>\n",
              "      <th>2</th>\n",
              "      <td>gini</td>\n",
              "      <td>sqrt</td>\n",
              "      <td>3</td>\n",
              "      <td>0.956094</td>\n",
              "    </tr>\n",
              "    <tr>\n",
              "      <th>5</th>\n",
              "      <td>gini</td>\n",
              "      <td>log2</td>\n",
              "      <td>3</td>\n",
              "      <td>0.956094</td>\n",
              "    </tr>\n",
              "    <tr>\n",
              "      <th>4</th>\n",
              "      <td>gini</td>\n",
              "      <td>log2</td>\n",
              "      <td>2</td>\n",
              "      <td>0.957817</td>\n",
              "    </tr>\n",
              "    <tr>\n",
              "      <th>11</th>\n",
              "      <td>entropy</td>\n",
              "      <td>log2</td>\n",
              "      <td>3</td>\n",
              "      <td>0.957848</td>\n",
              "    </tr>\n",
              "    <tr>\n",
              "      <th>10</th>\n",
              "      <td>entropy</td>\n",
              "      <td>log2</td>\n",
              "      <td>2</td>\n",
              "      <td>0.959618</td>\n",
              "    </tr>\n",
              "    <tr>\n",
              "      <th>0</th>\n",
              "      <td>gini</td>\n",
              "      <td>sqrt</td>\n",
              "      <td>1</td>\n",
              "      <td>0.961357</td>\n",
              "    </tr>\n",
              "    <tr>\n",
              "      <th>1</th>\n",
              "      <td>gini</td>\n",
              "      <td>sqrt</td>\n",
              "      <td>2</td>\n",
              "      <td>0.961357</td>\n",
              "    </tr>\n",
              "    <tr>\n",
              "      <th>7</th>\n",
              "      <td>entropy</td>\n",
              "      <td>sqrt</td>\n",
              "      <td>2</td>\n",
              "      <td>0.961357</td>\n",
              "    </tr>\n",
              "    <tr>\n",
              "      <th>8</th>\n",
              "      <td>entropy</td>\n",
              "      <td>sqrt</td>\n",
              "      <td>3</td>\n",
              "      <td>0.961372</td>\n",
              "    </tr>\n",
              "    <tr>\n",
              "      <th>9</th>\n",
              "      <td>entropy</td>\n",
              "      <td>log2</td>\n",
              "      <td>1</td>\n",
              "      <td>0.963111</td>\n",
              "    </tr>\n",
              "    <tr>\n",
              "      <th>3</th>\n",
              "      <td>gini</td>\n",
              "      <td>log2</td>\n",
              "      <td>1</td>\n",
              "      <td>0.963127</td>\n",
              "    </tr>\n",
              "    <tr>\n",
              "      <th>6</th>\n",
              "      <td>entropy</td>\n",
              "      <td>sqrt</td>\n",
              "      <td>1</td>\n",
              "      <td>0.968374</td>\n",
              "    </tr>\n",
              "  </tbody>\n",
              "</table>\n",
              "</div>\n",
              "      <button class=\"colab-df-convert\" onclick=\"convertToInteractive('df-4fed0081-35ee-4e6e-9f37-752e161af5c1')\"\n",
              "              title=\"Convert this dataframe to an interactive table.\"\n",
              "              style=\"display:none;\">\n",
              "        \n",
              "  <svg xmlns=\"http://www.w3.org/2000/svg\" height=\"24px\"viewBox=\"0 0 24 24\"\n",
              "       width=\"24px\">\n",
              "    <path d=\"M0 0h24v24H0V0z\" fill=\"none\"/>\n",
              "    <path d=\"M18.56 5.44l.94 2.06.94-2.06 2.06-.94-2.06-.94-.94-2.06-.94 2.06-2.06.94zm-11 1L8.5 8.5l.94-2.06 2.06-.94-2.06-.94L8.5 2.5l-.94 2.06-2.06.94zm10 10l.94 2.06.94-2.06 2.06-.94-2.06-.94-.94-2.06-.94 2.06-2.06.94z\"/><path d=\"M17.41 7.96l-1.37-1.37c-.4-.4-.92-.59-1.43-.59-.52 0-1.04.2-1.43.59L10.3 9.45l-7.72 7.72c-.78.78-.78 2.05 0 2.83L4 21.41c.39.39.9.59 1.41.59.51 0 1.02-.2 1.41-.59l7.78-7.78 2.81-2.81c.8-.78.8-2.07 0-2.86zM5.41 20L4 18.59l7.72-7.72 1.47 1.35L5.41 20z\"/>\n",
              "  </svg>\n",
              "      </button>\n",
              "      \n",
              "  <style>\n",
              "    .colab-df-container {\n",
              "      display:flex;\n",
              "      flex-wrap:wrap;\n",
              "      gap: 12px;\n",
              "    }\n",
              "\n",
              "    .colab-df-convert {\n",
              "      background-color: #E8F0FE;\n",
              "      border: none;\n",
              "      border-radius: 50%;\n",
              "      cursor: pointer;\n",
              "      display: none;\n",
              "      fill: #1967D2;\n",
              "      height: 32px;\n",
              "      padding: 0 0 0 0;\n",
              "      width: 32px;\n",
              "    }\n",
              "\n",
              "    .colab-df-convert:hover {\n",
              "      background-color: #E2EBFA;\n",
              "      box-shadow: 0px 1px 2px rgba(60, 64, 67, 0.3), 0px 1px 3px 1px rgba(60, 64, 67, 0.15);\n",
              "      fill: #174EA6;\n",
              "    }\n",
              "\n",
              "    [theme=dark] .colab-df-convert {\n",
              "      background-color: #3B4455;\n",
              "      fill: #D2E3FC;\n",
              "    }\n",
              "\n",
              "    [theme=dark] .colab-df-convert:hover {\n",
              "      background-color: #434B5C;\n",
              "      box-shadow: 0px 1px 3px 1px rgba(0, 0, 0, 0.15);\n",
              "      filter: drop-shadow(0px 1px 2px rgba(0, 0, 0, 0.3));\n",
              "      fill: #FFFFFF;\n",
              "    }\n",
              "  </style>\n",
              "\n",
              "      <script>\n",
              "        const buttonEl =\n",
              "          document.querySelector('#df-4fed0081-35ee-4e6e-9f37-752e161af5c1 button.colab-df-convert');\n",
              "        buttonEl.style.display =\n",
              "          google.colab.kernel.accessAllowed ? 'block' : 'none';\n",
              "\n",
              "        async function convertToInteractive(key) {\n",
              "          const element = document.querySelector('#df-4fed0081-35ee-4e6e-9f37-752e161af5c1');\n",
              "          const dataTable =\n",
              "            await google.colab.kernel.invokeFunction('convertToInteractive',\n",
              "                                                     [key], {});\n",
              "          if (!dataTable) return;\n",
              "\n",
              "          const docLinkHtml = 'Like what you see? Visit the ' +\n",
              "            '<a target=\"_blank\" href=https://colab.research.google.com/notebooks/data_table.ipynb>data table notebook</a>'\n",
              "            + ' to learn more about interactive tables.';\n",
              "          element.innerHTML = '';\n",
              "          dataTable['output_type'] = 'display_data';\n",
              "          await google.colab.output.renderOutput(dataTable, element);\n",
              "          const docLink = document.createElement('div');\n",
              "          docLink.innerHTML = docLinkHtml;\n",
              "          element.appendChild(docLink);\n",
              "        }\n",
              "      </script>\n",
              "    </div>\n",
              "  </div>\n",
              "  "
            ]
          },
          "metadata": {},
          "execution_count": 9
        }
      ]
    },
    {
      "cell_type": "markdown",
      "source": [
        "the best combo of parameters is Criterion = Entropy, Max_features = sqrt and min_samples_leaf = 1"
      ],
      "metadata": {
        "id": "iqyRduB-Wb5H"
      }
    },
    {
      "cell_type": "markdown",
      "source": [
        "Part 2\n",
        "Load the MNIST data, and split it into a training set, and a test set.\n",
        "\n",
        "Train three of the individual classifiers, such as a Random Forest classifier, K Nearest Neighbors classifier, and an SVM classifier on the training set and record their accuracies on the test set.\n",
        "\n",
        "Next, combine the results into an ensemble using:\n",
        "\n",
        "soft voting classifier (average of the output probabilities), or\n",
        "hard voting classifier (majority prediction)\n",
        "You are welcome to use the VotingClassifer in sklearn.ensemble. How much better does the voting classifier perform compared to the individual classifiers?"
      ],
      "metadata": {
        "id": "fclgLjEQWppa"
      }
    },
    {
      "cell_type": "code",
      "source": [
        "from keras.datasets import mnist"
      ],
      "metadata": {
        "id": "ORGCTDXMWyIX"
      },
      "execution_count": null,
      "outputs": []
    },
    {
      "cell_type": "code",
      "source": [
        "(train_x, train_y), (test_x, test_y) = mnist.load_data()"
      ],
      "metadata": {
        "id": "xqIQu5kkW6Ry"
      },
      "execution_count": null,
      "outputs": []
    },
    {
      "cell_type": "code",
      "source": [
        "train_x = train_x.reshape(60000,-1)\n",
        "test_x = test_x.reshape(10000,-1)\n",
        "train_x.shape"
      ],
      "metadata": {
        "colab": {
          "base_uri": "https://localhost:8080/"
        },
        "id": "L-pefMszYMFN",
        "outputId": "2d67debc-6ba2-491d-e8c1-5fd489341d73"
      },
      "execution_count": null,
      "outputs": [
        {
          "output_type": "execute_result",
          "data": {
            "text/plain": [
              "(60000, 784)"
            ]
          },
          "metadata": {},
          "execution_count": 12
        }
      ]
    },
    {
      "cell_type": "code",
      "source": [
        "## random forest\n",
        "from sklearn.ensemble import RandomForestClassifier\n",
        "rfc = RandomForestClassifier()\n",
        "rfc.fit(train_x,train_y)\n",
        "rfc.score(test_x,test_y)\n"
      ],
      "metadata": {
        "colab": {
          "base_uri": "https://localhost:8080/"
        },
        "id": "7LXzoeqqXBSa",
        "outputId": "a544d4a6-69d4-4484-8ea9-72265348691c"
      },
      "execution_count": null,
      "outputs": [
        {
          "output_type": "execute_result",
          "data": {
            "text/plain": [
              "0.9687"
            ]
          },
          "metadata": {},
          "execution_count": 13
        }
      ]
    },
    {
      "cell_type": "code",
      "source": [
        "## dtc classifier\n",
        "from sklearn.tree import DecisionTreeClassifier\n",
        "dtc = DecisionTreeClassifier()\n",
        "dtc.fit(train_x, train_y)\n",
        "dtc.score(test_x,test_y)"
      ],
      "metadata": {
        "colab": {
          "base_uri": "https://localhost:8080/"
        },
        "id": "Y6ZGt3X5XFxO",
        "outputId": "acf51c4c-0ed7-4897-eef1-c272b3b21ee3"
      },
      "execution_count": null,
      "outputs": [
        {
          "output_type": "execute_result",
          "data": {
            "text/plain": [
              "0.8769"
            ]
          },
          "metadata": {},
          "execution_count": 27
        }
      ]
    },
    {
      "cell_type": "code",
      "source": [
        "## k-nearest neighbor\n",
        "from sklearn.neighbors import KNeighborsClassifier\n",
        "knn = KNeighborsClassifier()\n",
        "knn.fit(train_x,train_y)\n",
        "knn.score(test_x,test_y)"
      ],
      "metadata": {
        "colab": {
          "base_uri": "https://localhost:8080/"
        },
        "id": "eECy-S8PXF-b",
        "outputId": "0e6ddcbb-d8bd-497d-8c1a-11f50b8c5da5"
      },
      "execution_count": null,
      "outputs": [
        {
          "output_type": "execute_result",
          "data": {
            "text/plain": [
              "0.9688"
            ]
          },
          "metadata": {},
          "execution_count": 15
        }
      ]
    },
    {
      "cell_type": "code",
      "source": [
        "## softvoting classifier\n",
        "from sklearn.ensemble import VotingClassifier\n",
        "vote = VotingClassifier(estimators = [('rfc',rfc),('dtc',dtc),('knn',knn)], voting = 'soft')\n",
        "vote.fit(train_x,train_y)\n",
        "vote.score(test_x,test_y)"
      ],
      "metadata": {
        "colab": {
          "base_uri": "https://localhost:8080/"
        },
        "id": "wm_vp0S8Z7oc",
        "outputId": "66f5a246-1584-4555-c5d8-47cab3d74084"
      },
      "execution_count": null,
      "outputs": [
        {
          "output_type": "execute_result",
          "data": {
            "text/plain": [
              "0.9598"
            ]
          },
          "metadata": {},
          "execution_count": 28
        }
      ]
    },
    {
      "cell_type": "code",
      "source": [
        "## hard voting classifier\n",
        "vote = VotingClassifier(estimators = [('rfc',rfc),('dtc',dtc),('knn',knn)], voting = 'hard')\n",
        "vote.fit(train_x,train_y)\n",
        "vote.score(test_x,test_y)"
      ],
      "metadata": {
        "colab": {
          "base_uri": "https://localhost:8080/"
        },
        "id": "_oYzsTbja-w8",
        "outputId": "e0216f08-768c-4c35-e13a-543dba180c56"
      },
      "execution_count": null,
      "outputs": [
        {
          "output_type": "execute_result",
          "data": {
            "text/plain": [
              "0.9676"
            ]
          },
          "metadata": {},
          "execution_count": 29
        }
      ]
    },
    {
      "cell_type": "markdown",
      "source": [
        "overall the voting classifier was better then any of the individual classifiers"
      ],
      "metadata": {
        "id": "Mu2-KPYwbE31"
      }
    }
  ]
}