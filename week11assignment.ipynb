{
  "nbformat": 4,
  "nbformat_minor": 0,
  "metadata": {
    "colab": {
      "provenance": [],
      "authorship_tag": "ABX9TyPkbACgV3WpU08BqFlmGRqw",
      "include_colab_link": true
    },
    "kernelspec": {
      "name": "python3",
      "display_name": "Python 3"
    },
    "language_info": {
      "name": "python"
    }
  },
  "cells": [
    {
      "cell_type": "markdown",
      "metadata": {
        "id": "view-in-github",
        "colab_type": "text"
      },
      "source": [
        "<a href=\"https://colab.research.google.com/github/tylerjmwhit/Maching_learning_pratice_notebooks/blob/main/week11assignment.ipynb\" target=\"_parent\"><img src=\"https://colab.research.google.com/assets/colab-badge.svg\" alt=\"Open In Colab\"/></a>"
      ]
    },
    {
      "cell_type": "code",
      "execution_count": null,
      "metadata": {
        "colab": {
          "base_uri": "https://localhost:8080/"
        },
        "id": "jFewYhstSf3N",
        "outputId": "0e4e6fd9-ae2d-43d2-8cce-601e99457773"
      },
      "outputs": [
        {
          "output_type": "stream",
          "name": "stdout",
          "text": [
            "Mounted at /content/drive/\n"
          ]
        }
      ],
      "source": [
        "import pandas as pd\n",
        "import numpy as np\n",
        "import matplotlib.pyplot as plt\n",
        "from google.colab import drive\n",
        "drive.mount('/content/drive/')"
      ]
    },
    {
      "cell_type": "markdown",
      "source": [
        "Exercise 1:\n",
        "\n",
        "Apply PCA to the facial keypoints images.\n",
        "\n",
        "Find the number of principal components, n say,  that has over 95% of the explained variance.\n",
        "\n",
        "Display some of the images in the original 96x96 space after projecting onto the n dimensional principal component space, i.e. apply the inverse transform procedure post projection.\n",
        "\n",
        "Also plot one of the 96x96 reshaped principal components."
      ],
      "metadata": {
        "id": "W03bSoxMSg2T"
      }
    },
    {
      "cell_type": "code",
      "source": [
        "df = pd.read_csv('/content/drive/My Drive/EE485_dataSets/KeypointsDatasetSmall.csv')\n",
        "df = df.dropna()\n",
        "df.columns\n",
        "df.drop(df.columns[0], inplace=True, axis = 1)\n",
        "df.index = range(len(df))\n",
        "df.isna()"
      ],
      "metadata": {
        "colab": {
          "base_uri": "https://localhost:8080/",
          "height": 488
        },
        "id": "MxIuk_TNTKzr",
        "outputId": "b1da01d0-3557-42ba-cf4b-bd28883a2ddb"
      },
      "execution_count": null,
      "outputs": [
        {
          "output_type": "execute_result",
          "data": {
            "text/plain": [
              "     left_eye_center_x  left_eye_center_y  right_eye_center_x  \\\n",
              "0                False              False               False   \n",
              "1                False              False               False   \n",
              "2                False              False               False   \n",
              "3                False              False               False   \n",
              "4                False              False               False   \n",
              "..                 ...                ...                 ...   \n",
              "988              False              False               False   \n",
              "989              False              False               False   \n",
              "990              False              False               False   \n",
              "991              False              False               False   \n",
              "992              False              False               False   \n",
              "\n",
              "     right_eye_center_y  left_eye_inner_corner_x  left_eye_inner_corner_y  \\\n",
              "0                 False                    False                    False   \n",
              "1                 False                    False                    False   \n",
              "2                 False                    False                    False   \n",
              "3                 False                    False                    False   \n",
              "4                 False                    False                    False   \n",
              "..                  ...                      ...                      ...   \n",
              "988               False                    False                    False   \n",
              "989               False                    False                    False   \n",
              "990               False                    False                    False   \n",
              "991               False                    False                    False   \n",
              "992               False                    False                    False   \n",
              "\n",
              "     left_eye_outer_corner_x  left_eye_outer_corner_y  \\\n",
              "0                      False                    False   \n",
              "1                      False                    False   \n",
              "2                      False                    False   \n",
              "3                      False                    False   \n",
              "4                      False                    False   \n",
              "..                       ...                      ...   \n",
              "988                    False                    False   \n",
              "989                    False                    False   \n",
              "990                    False                    False   \n",
              "991                    False                    False   \n",
              "992                    False                    False   \n",
              "\n",
              "     right_eye_inner_corner_x  right_eye_inner_corner_y  ...  nose_tip_y  \\\n",
              "0                       False                     False  ...       False   \n",
              "1                       False                     False  ...       False   \n",
              "2                       False                     False  ...       False   \n",
              "3                       False                     False  ...       False   \n",
              "4                       False                     False  ...       False   \n",
              "..                        ...                       ...  ...         ...   \n",
              "988                     False                     False  ...       False   \n",
              "989                     False                     False  ...       False   \n",
              "990                     False                     False  ...       False   \n",
              "991                     False                     False  ...       False   \n",
              "992                     False                     False  ...       False   \n",
              "\n",
              "     mouth_left_corner_x  mouth_left_corner_y  mouth_right_corner_x  \\\n",
              "0                  False                False                 False   \n",
              "1                  False                False                 False   \n",
              "2                  False                False                 False   \n",
              "3                  False                False                 False   \n",
              "4                  False                False                 False   \n",
              "..                   ...                  ...                   ...   \n",
              "988                False                False                 False   \n",
              "989                False                False                 False   \n",
              "990                False                False                 False   \n",
              "991                False                False                 False   \n",
              "992                False                False                 False   \n",
              "\n",
              "     mouth_right_corner_y  mouth_center_top_lip_x  mouth_center_top_lip_y  \\\n",
              "0                   False                   False                   False   \n",
              "1                   False                   False                   False   \n",
              "2                   False                   False                   False   \n",
              "3                   False                   False                   False   \n",
              "4                   False                   False                   False   \n",
              "..                    ...                     ...                     ...   \n",
              "988                 False                   False                   False   \n",
              "989                 False                   False                   False   \n",
              "990                 False                   False                   False   \n",
              "991                 False                   False                   False   \n",
              "992                 False                   False                   False   \n",
              "\n",
              "     mouth_center_bottom_lip_x  mouth_center_bottom_lip_y  Image  \n",
              "0                        False                      False  False  \n",
              "1                        False                      False  False  \n",
              "2                        False                      False  False  \n",
              "3                        False                      False  False  \n",
              "4                        False                      False  False  \n",
              "..                         ...                        ...    ...  \n",
              "988                      False                      False  False  \n",
              "989                      False                      False  False  \n",
              "990                      False                      False  False  \n",
              "991                      False                      False  False  \n",
              "992                      False                      False  False  \n",
              "\n",
              "[993 rows x 31 columns]"
            ],
            "text/html": [
              "\n",
              "  <div id=\"df-eb687015-85ec-4a60-aa94-6c9638f203b1\">\n",
              "    <div class=\"colab-df-container\">\n",
              "      <div>\n",
              "<style scoped>\n",
              "    .dataframe tbody tr th:only-of-type {\n",
              "        vertical-align: middle;\n",
              "    }\n",
              "\n",
              "    .dataframe tbody tr th {\n",
              "        vertical-align: top;\n",
              "    }\n",
              "\n",
              "    .dataframe thead th {\n",
              "        text-align: right;\n",
              "    }\n",
              "</style>\n",
              "<table border=\"1\" class=\"dataframe\">\n",
              "  <thead>\n",
              "    <tr style=\"text-align: right;\">\n",
              "      <th></th>\n",
              "      <th>left_eye_center_x</th>\n",
              "      <th>left_eye_center_y</th>\n",
              "      <th>right_eye_center_x</th>\n",
              "      <th>right_eye_center_y</th>\n",
              "      <th>left_eye_inner_corner_x</th>\n",
              "      <th>left_eye_inner_corner_y</th>\n",
              "      <th>left_eye_outer_corner_x</th>\n",
              "      <th>left_eye_outer_corner_y</th>\n",
              "      <th>right_eye_inner_corner_x</th>\n",
              "      <th>right_eye_inner_corner_y</th>\n",
              "      <th>...</th>\n",
              "      <th>nose_tip_y</th>\n",
              "      <th>mouth_left_corner_x</th>\n",
              "      <th>mouth_left_corner_y</th>\n",
              "      <th>mouth_right_corner_x</th>\n",
              "      <th>mouth_right_corner_y</th>\n",
              "      <th>mouth_center_top_lip_x</th>\n",
              "      <th>mouth_center_top_lip_y</th>\n",
              "      <th>mouth_center_bottom_lip_x</th>\n",
              "      <th>mouth_center_bottom_lip_y</th>\n",
              "      <th>Image</th>\n",
              "    </tr>\n",
              "  </thead>\n",
              "  <tbody>\n",
              "    <tr>\n",
              "      <th>0</th>\n",
              "      <td>False</td>\n",
              "      <td>False</td>\n",
              "      <td>False</td>\n",
              "      <td>False</td>\n",
              "      <td>False</td>\n",
              "      <td>False</td>\n",
              "      <td>False</td>\n",
              "      <td>False</td>\n",
              "      <td>False</td>\n",
              "      <td>False</td>\n",
              "      <td>...</td>\n",
              "      <td>False</td>\n",
              "      <td>False</td>\n",
              "      <td>False</td>\n",
              "      <td>False</td>\n",
              "      <td>False</td>\n",
              "      <td>False</td>\n",
              "      <td>False</td>\n",
              "      <td>False</td>\n",
              "      <td>False</td>\n",
              "      <td>False</td>\n",
              "    </tr>\n",
              "    <tr>\n",
              "      <th>1</th>\n",
              "      <td>False</td>\n",
              "      <td>False</td>\n",
              "      <td>False</td>\n",
              "      <td>False</td>\n",
              "      <td>False</td>\n",
              "      <td>False</td>\n",
              "      <td>False</td>\n",
              "      <td>False</td>\n",
              "      <td>False</td>\n",
              "      <td>False</td>\n",
              "      <td>...</td>\n",
              "      <td>False</td>\n",
              "      <td>False</td>\n",
              "      <td>False</td>\n",
              "      <td>False</td>\n",
              "      <td>False</td>\n",
              "      <td>False</td>\n",
              "      <td>False</td>\n",
              "      <td>False</td>\n",
              "      <td>False</td>\n",
              "      <td>False</td>\n",
              "    </tr>\n",
              "    <tr>\n",
              "      <th>2</th>\n",
              "      <td>False</td>\n",
              "      <td>False</td>\n",
              "      <td>False</td>\n",
              "      <td>False</td>\n",
              "      <td>False</td>\n",
              "      <td>False</td>\n",
              "      <td>False</td>\n",
              "      <td>False</td>\n",
              "      <td>False</td>\n",
              "      <td>False</td>\n",
              "      <td>...</td>\n",
              "      <td>False</td>\n",
              "      <td>False</td>\n",
              "      <td>False</td>\n",
              "      <td>False</td>\n",
              "      <td>False</td>\n",
              "      <td>False</td>\n",
              "      <td>False</td>\n",
              "      <td>False</td>\n",
              "      <td>False</td>\n",
              "      <td>False</td>\n",
              "    </tr>\n",
              "    <tr>\n",
              "      <th>3</th>\n",
              "      <td>False</td>\n",
              "      <td>False</td>\n",
              "      <td>False</td>\n",
              "      <td>False</td>\n",
              "      <td>False</td>\n",
              "      <td>False</td>\n",
              "      <td>False</td>\n",
              "      <td>False</td>\n",
              "      <td>False</td>\n",
              "      <td>False</td>\n",
              "      <td>...</td>\n",
              "      <td>False</td>\n",
              "      <td>False</td>\n",
              "      <td>False</td>\n",
              "      <td>False</td>\n",
              "      <td>False</td>\n",
              "      <td>False</td>\n",
              "      <td>False</td>\n",
              "      <td>False</td>\n",
              "      <td>False</td>\n",
              "      <td>False</td>\n",
              "    </tr>\n",
              "    <tr>\n",
              "      <th>4</th>\n",
              "      <td>False</td>\n",
              "      <td>False</td>\n",
              "      <td>False</td>\n",
              "      <td>False</td>\n",
              "      <td>False</td>\n",
              "      <td>False</td>\n",
              "      <td>False</td>\n",
              "      <td>False</td>\n",
              "      <td>False</td>\n",
              "      <td>False</td>\n",
              "      <td>...</td>\n",
              "      <td>False</td>\n",
              "      <td>False</td>\n",
              "      <td>False</td>\n",
              "      <td>False</td>\n",
              "      <td>False</td>\n",
              "      <td>False</td>\n",
              "      <td>False</td>\n",
              "      <td>False</td>\n",
              "      <td>False</td>\n",
              "      <td>False</td>\n",
              "    </tr>\n",
              "    <tr>\n",
              "      <th>...</th>\n",
              "      <td>...</td>\n",
              "      <td>...</td>\n",
              "      <td>...</td>\n",
              "      <td>...</td>\n",
              "      <td>...</td>\n",
              "      <td>...</td>\n",
              "      <td>...</td>\n",
              "      <td>...</td>\n",
              "      <td>...</td>\n",
              "      <td>...</td>\n",
              "      <td>...</td>\n",
              "      <td>...</td>\n",
              "      <td>...</td>\n",
              "      <td>...</td>\n",
              "      <td>...</td>\n",
              "      <td>...</td>\n",
              "      <td>...</td>\n",
              "      <td>...</td>\n",
              "      <td>...</td>\n",
              "      <td>...</td>\n",
              "      <td>...</td>\n",
              "    </tr>\n",
              "    <tr>\n",
              "      <th>988</th>\n",
              "      <td>False</td>\n",
              "      <td>False</td>\n",
              "      <td>False</td>\n",
              "      <td>False</td>\n",
              "      <td>False</td>\n",
              "      <td>False</td>\n",
              "      <td>False</td>\n",
              "      <td>False</td>\n",
              "      <td>False</td>\n",
              "      <td>False</td>\n",
              "      <td>...</td>\n",
              "      <td>False</td>\n",
              "      <td>False</td>\n",
              "      <td>False</td>\n",
              "      <td>False</td>\n",
              "      <td>False</td>\n",
              "      <td>False</td>\n",
              "      <td>False</td>\n",
              "      <td>False</td>\n",
              "      <td>False</td>\n",
              "      <td>False</td>\n",
              "    </tr>\n",
              "    <tr>\n",
              "      <th>989</th>\n",
              "      <td>False</td>\n",
              "      <td>False</td>\n",
              "      <td>False</td>\n",
              "      <td>False</td>\n",
              "      <td>False</td>\n",
              "      <td>False</td>\n",
              "      <td>False</td>\n",
              "      <td>False</td>\n",
              "      <td>False</td>\n",
              "      <td>False</td>\n",
              "      <td>...</td>\n",
              "      <td>False</td>\n",
              "      <td>False</td>\n",
              "      <td>False</td>\n",
              "      <td>False</td>\n",
              "      <td>False</td>\n",
              "      <td>False</td>\n",
              "      <td>False</td>\n",
              "      <td>False</td>\n",
              "      <td>False</td>\n",
              "      <td>False</td>\n",
              "    </tr>\n",
              "    <tr>\n",
              "      <th>990</th>\n",
              "      <td>False</td>\n",
              "      <td>False</td>\n",
              "      <td>False</td>\n",
              "      <td>False</td>\n",
              "      <td>False</td>\n",
              "      <td>False</td>\n",
              "      <td>False</td>\n",
              "      <td>False</td>\n",
              "      <td>False</td>\n",
              "      <td>False</td>\n",
              "      <td>...</td>\n",
              "      <td>False</td>\n",
              "      <td>False</td>\n",
              "      <td>False</td>\n",
              "      <td>False</td>\n",
              "      <td>False</td>\n",
              "      <td>False</td>\n",
              "      <td>False</td>\n",
              "      <td>False</td>\n",
              "      <td>False</td>\n",
              "      <td>False</td>\n",
              "    </tr>\n",
              "    <tr>\n",
              "      <th>991</th>\n",
              "      <td>False</td>\n",
              "      <td>False</td>\n",
              "      <td>False</td>\n",
              "      <td>False</td>\n",
              "      <td>False</td>\n",
              "      <td>False</td>\n",
              "      <td>False</td>\n",
              "      <td>False</td>\n",
              "      <td>False</td>\n",
              "      <td>False</td>\n",
              "      <td>...</td>\n",
              "      <td>False</td>\n",
              "      <td>False</td>\n",
              "      <td>False</td>\n",
              "      <td>False</td>\n",
              "      <td>False</td>\n",
              "      <td>False</td>\n",
              "      <td>False</td>\n",
              "      <td>False</td>\n",
              "      <td>False</td>\n",
              "      <td>False</td>\n",
              "    </tr>\n",
              "    <tr>\n",
              "      <th>992</th>\n",
              "      <td>False</td>\n",
              "      <td>False</td>\n",
              "      <td>False</td>\n",
              "      <td>False</td>\n",
              "      <td>False</td>\n",
              "      <td>False</td>\n",
              "      <td>False</td>\n",
              "      <td>False</td>\n",
              "      <td>False</td>\n",
              "      <td>False</td>\n",
              "      <td>...</td>\n",
              "      <td>False</td>\n",
              "      <td>False</td>\n",
              "      <td>False</td>\n",
              "      <td>False</td>\n",
              "      <td>False</td>\n",
              "      <td>False</td>\n",
              "      <td>False</td>\n",
              "      <td>False</td>\n",
              "      <td>False</td>\n",
              "      <td>False</td>\n",
              "    </tr>\n",
              "  </tbody>\n",
              "</table>\n",
              "<p>993 rows × 31 columns</p>\n",
              "</div>\n",
              "      <button class=\"colab-df-convert\" onclick=\"convertToInteractive('df-eb687015-85ec-4a60-aa94-6c9638f203b1')\"\n",
              "              title=\"Convert this dataframe to an interactive table.\"\n",
              "              style=\"display:none;\">\n",
              "        \n",
              "  <svg xmlns=\"http://www.w3.org/2000/svg\" height=\"24px\"viewBox=\"0 0 24 24\"\n",
              "       width=\"24px\">\n",
              "    <path d=\"M0 0h24v24H0V0z\" fill=\"none\"/>\n",
              "    <path d=\"M18.56 5.44l.94 2.06.94-2.06 2.06-.94-2.06-.94-.94-2.06-.94 2.06-2.06.94zm-11 1L8.5 8.5l.94-2.06 2.06-.94-2.06-.94L8.5 2.5l-.94 2.06-2.06.94zm10 10l.94 2.06.94-2.06 2.06-.94-2.06-.94-.94-2.06-.94 2.06-2.06.94z\"/><path d=\"M17.41 7.96l-1.37-1.37c-.4-.4-.92-.59-1.43-.59-.52 0-1.04.2-1.43.59L10.3 9.45l-7.72 7.72c-.78.78-.78 2.05 0 2.83L4 21.41c.39.39.9.59 1.41.59.51 0 1.02-.2 1.41-.59l7.78-7.78 2.81-2.81c.8-.78.8-2.07 0-2.86zM5.41 20L4 18.59l7.72-7.72 1.47 1.35L5.41 20z\"/>\n",
              "  </svg>\n",
              "      </button>\n",
              "      \n",
              "  <style>\n",
              "    .colab-df-container {\n",
              "      display:flex;\n",
              "      flex-wrap:wrap;\n",
              "      gap: 12px;\n",
              "    }\n",
              "\n",
              "    .colab-df-convert {\n",
              "      background-color: #E8F0FE;\n",
              "      border: none;\n",
              "      border-radius: 50%;\n",
              "      cursor: pointer;\n",
              "      display: none;\n",
              "      fill: #1967D2;\n",
              "      height: 32px;\n",
              "      padding: 0 0 0 0;\n",
              "      width: 32px;\n",
              "    }\n",
              "\n",
              "    .colab-df-convert:hover {\n",
              "      background-color: #E2EBFA;\n",
              "      box-shadow: 0px 1px 2px rgba(60, 64, 67, 0.3), 0px 1px 3px 1px rgba(60, 64, 67, 0.15);\n",
              "      fill: #174EA6;\n",
              "    }\n",
              "\n",
              "    [theme=dark] .colab-df-convert {\n",
              "      background-color: #3B4455;\n",
              "      fill: #D2E3FC;\n",
              "    }\n",
              "\n",
              "    [theme=dark] .colab-df-convert:hover {\n",
              "      background-color: #434B5C;\n",
              "      box-shadow: 0px 1px 3px 1px rgba(0, 0, 0, 0.15);\n",
              "      filter: drop-shadow(0px 1px 2px rgba(0, 0, 0, 0.3));\n",
              "      fill: #FFFFFF;\n",
              "    }\n",
              "  </style>\n",
              "\n",
              "      <script>\n",
              "        const buttonEl =\n",
              "          document.querySelector('#df-eb687015-85ec-4a60-aa94-6c9638f203b1 button.colab-df-convert');\n",
              "        buttonEl.style.display =\n",
              "          google.colab.kernel.accessAllowed ? 'block' : 'none';\n",
              "\n",
              "        async function convertToInteractive(key) {\n",
              "          const element = document.querySelector('#df-eb687015-85ec-4a60-aa94-6c9638f203b1');\n",
              "          const dataTable =\n",
              "            await google.colab.kernel.invokeFunction('convertToInteractive',\n",
              "                                                     [key], {});\n",
              "          if (!dataTable) return;\n",
              "\n",
              "          const docLinkHtml = 'Like what you see? Visit the ' +\n",
              "            '<a target=\"_blank\" href=https://colab.research.google.com/notebooks/data_table.ipynb>data table notebook</a>'\n",
              "            + ' to learn more about interactive tables.';\n",
              "          element.innerHTML = '';\n",
              "          dataTable['output_type'] = 'display_data';\n",
              "          await google.colab.output.renderOutput(dataTable, element);\n",
              "          const docLink = document.createElement('div');\n",
              "          docLink.innerHTML = docLinkHtml;\n",
              "          element.appendChild(docLink);\n",
              "        }\n",
              "      </script>\n",
              "    </div>\n",
              "  </div>\n",
              "  "
            ]
          },
          "metadata": {},
          "execution_count": 4
        }
      ]
    },
    {
      "cell_type": "code",
      "source": [
        "def makeIMG(n):\n",
        "  Image1 = df['Image'][n]\n",
        "  Image1 = Image1.split(\" \")\n",
        "  Image1 = np.array(Image1).astype(int)\n",
        "  # Image1 = Image1.reshape(96,96)\n",
        "  return Image1\n",
        "\n",
        "def imPlot(image, n):\n",
        "  for i in range(1,28,2):\n",
        "    j = i+1\n",
        "    plt.plot(df[df.columns[i]][n],df[df.columns[j]][n],'o')\n",
        "  plt.imshow(image)\n",
        "  plt.show()"
      ],
      "metadata": {
        "id": "1XITWStgTk4k"
      },
      "execution_count": null,
      "outputs": []
    },
    {
      "cell_type": "code",
      "source": [
        "images = []\n",
        "for i in range(993):\n",
        "  images.append(makeIMG(i))\n",
        "images = np.array(images)\n",
        "# images.reshape(-1,96,96,1)\n",
        "images.shape"
      ],
      "metadata": {
        "colab": {
          "base_uri": "https://localhost:8080/"
        },
        "id": "9jLWmgIWTpNu",
        "outputId": "f9a068a9-7e82-4cae-b1c9-5d85b5926407"
      },
      "execution_count": null,
      "outputs": [
        {
          "output_type": "execute_result",
          "data": {
            "text/plain": [
              "(993, 9216)"
            ]
          },
          "metadata": {},
          "execution_count": 28
        }
      ]
    },
    {
      "cell_type": "code",
      "source": [
        "from sklearn.decomposition import PCA, IncrementalPCA\n",
        "pca = PCA(.95)\n",
        "pca.fit(images) # find the better coordinate system"
      ],
      "metadata": {
        "colab": {
          "base_uri": "https://localhost:8080/"
        },
        "id": "wYTwuqcTT3vR",
        "outputId": "a80ac938-fa69-4de3-ad1d-8298fe0c5833"
      },
      "execution_count": null,
      "outputs": [
        {
          "output_type": "execute_result",
          "data": {
            "text/plain": [
              "PCA(n_components=0.95)"
            ]
          },
          "metadata": {},
          "execution_count": 74
        }
      ]
    },
    {
      "cell_type": "code",
      "source": [
        "print(images.shape)\n",
        "pca.transform(images).shape"
      ],
      "metadata": {
        "colab": {
          "base_uri": "https://localhost:8080/"
        },
        "id": "V_HHhm63WWll",
        "outputId": "9f02d17d-bf17-4080-defc-804627d5156d"
      },
      "execution_count": null,
      "outputs": [
        {
          "output_type": "stream",
          "name": "stdout",
          "text": [
            "(993, 9216)\n"
          ]
        },
        {
          "output_type": "execute_result",
          "data": {
            "text/plain": [
              "(993, 127)"
            ]
          },
          "metadata": {},
          "execution_count": 75
        }
      ]
    },
    {
      "cell_type": "code",
      "source": [
        "new_coords = pca.transform(images)\n",
        "new_coords_plot = new_coords[:,:121]\n",
        "new_coords_plot.shape"
      ],
      "metadata": {
        "colab": {
          "base_uri": "https://localhost:8080/"
        },
        "id": "hkpg-LBFb1WS",
        "outputId": "72bc958c-d78e-4ae7-ff7e-cfba0478e0b7"
      },
      "execution_count": null,
      "outputs": [
        {
          "output_type": "execute_result",
          "data": {
            "text/plain": [
              "(993, 121)"
            ]
          },
          "metadata": {},
          "execution_count": 77
        }
      ]
    },
    {
      "cell_type": "code",
      "source": [
        "for i in range(10):\n",
        "  ax = plt.subplot(2, 5, i+1)\n",
        "  ax.imshow(new_coords_plot[i].reshape((-1,11)))"
      ],
      "metadata": {
        "colab": {
          "base_uri": "https://localhost:8080/",
          "height": 226
        },
        "id": "XaBRgFcrZMUh",
        "outputId": "239c6a8f-8c74-4ecc-fb47-c72531275d01"
      },
      "execution_count": null,
      "outputs": [
        {
          "output_type": "display_data",
          "data": {
            "text/plain": [
              "<Figure size 432x288 with 10 Axes>"
            ],
            "image/png": "[encoded data removed]"
          },
          "metadata": {
            "needs_background": "light"
          }
        }
      ]
    },
    {
      "cell_type": "code",
      "source": [
        "orig_coords = pca.inverse_transform(new_coords)\n",
        "orig_coords.shape"
      ],
      "metadata": {
        "colab": {
          "base_uri": "https://localhost:8080/"
        },
        "id": "MpJsJB3KU_Nf",
        "outputId": "c794eceb-98ba-4169-8ef4-5402ec5f5102"
      },
      "execution_count": null,
      "outputs": [
        {
          "output_type": "execute_result",
          "data": {
            "text/plain": [
              "(993, 9216)"
            ]
          },
          "metadata": {},
          "execution_count": 79
        }
      ]
    },
    {
      "cell_type": "code",
      "source": [
        "for i in range(10):\n",
        "  ax = plt.subplot(2, 5, i+1)\n",
        "  ax.imshow(orig_coords[i].reshape((-1,96)))"
      ],
      "metadata": {
        "colab": {
          "base_uri": "https://localhost:8080/",
          "height": 228
        },
        "id": "duCrNXwucaxb",
        "outputId": "62d73a7f-a348-41f0-8a93-7bd1062a6e21"
      },
      "execution_count": null,
      "outputs": [
        {
          "output_type": "display_data",
          "data": {
            "text/plain": [
              "<Figure size 432x288 with 10 Axes>"
            ],
            "image/png": "[encoded data removed]"
          },
          "metadata": {
            "needs_background": "light"
          }
        }
      ]
    },
    {
      "cell_type": "markdown",
      "source": [
        "Exercise 2:\n",
        "\n",
        "Building on from task 1. Run a feedforward neural network on the n principal components to predict the facial keypoints.\n",
        "\n",
        "Compare the accuracies of the PCA then FF (above) vs only FF networks (earlier assignment)."
      ],
      "metadata": {
        "id": "eS5zEmqzclzP"
      }
    },
    {
      "cell_type": "code",
      "source": [
        "from keras.layers.normalization.batch_normalization import BatchNormalization\n",
        "from keras.layers.core.flatten import Flatten\n",
        "from keras import layers, models, callbacks\n",
        "model = models.Sequential(\n",
        "    [\n",
        "     layers.InputLayer(input_shape=(9216)),\n",
        "     layers.Flatten(),\n",
        "     layers.Dense(64, activation = 'relu', kernel_initializer=\"glorot_uniform\"),\n",
        "     layers.Dense(128, activation = 'relu', kernel_initializer=\"glorot_uniform\"),\n",
        "     layers.Dense(256, activation = 'relu', kernel_initializer=\"glorot_uniform\"),\n",
        "     layers.Dense(512, activation = 'relu', kernel_initializer=\"glorot_uniform\"),\n",
        "     layers.Dropout(.1),\n",
        "     layers.Dense(30, activation = 'linear')\n",
        "    ]\n",
        ")\n",
        "model.summary()\n",
        "\n",
        "model1 = models.Sequential(\n",
        "    [\n",
        "     layers.InputLayer(input_shape=(127)),\n",
        "     layers.Flatten(),\n",
        "     layers.Dense(64, activation = 'relu', kernel_initializer=\"glorot_uniform\"),\n",
        "     layers.Dense(128, activation = 'relu', kernel_initializer=\"glorot_uniform\"),\n",
        "     layers.Dense(256, activation = 'relu', kernel_initializer=\"glorot_uniform\"),\n",
        "     layers.Dense(512, activation = 'relu', kernel_initializer=\"glorot_uniform\"),\n",
        "     layers.Dropout(.1),\n",
        "     layers.Dense(30, activation = 'linear')\n",
        "    ]\n",
        ")\n",
        "model1.summary()"
      ],
      "metadata": {
        "colab": {
          "base_uri": "https://localhost:8080/"
        },
        "id": "cYroGMCudA8T",
        "outputId": "d93d2356-7c57-4bd9-a565-b326381c850b"
      },
      "execution_count": null,
      "outputs": [
        {
          "output_type": "stream",
          "name": "stdout",
          "text": [
            "Model: \"sequential_7\"\n",
            "_________________________________________________________________\n",
            " Layer (type)                Output Shape              Param #   \n",
            "=================================================================\n",
            " flatten_7 (Flatten)         (None, 9216)              0         \n",
            "                                                                 \n",
            " dense_26 (Dense)            (None, 64)                589888    \n",
            "                                                                 \n",
            " dense_27 (Dense)            (None, 128)               8320      \n",
            "                                                                 \n",
            " dense_28 (Dense)            (None, 256)               33024     \n",
            "                                                                 \n",
            " dense_29 (Dense)            (None, 512)               131584    \n",
            "                                                                 \n",
            " dropout_7 (Dropout)         (None, 512)               0         \n",
            "                                                                 \n",
            " dense_30 (Dense)            (None, 30)                15390     \n",
            "                                                                 \n",
            "=================================================================\n",
            "Total params: 778,206\n",
            "Trainable params: 778,206\n",
            "Non-trainable params: 0\n",
            "_________________________________________________________________\n",
            "Model: \"sequential_8\"\n",
            "_________________________________________________________________\n",
            " Layer (type)                Output Shape              Param #   \n",
            "=================================================================\n",
            " flatten_8 (Flatten)         (None, 127)               0         \n",
            "                                                                 \n",
            " dense_31 (Dense)            (None, 64)                8192      \n",
            "                                                                 \n",
            " dense_32 (Dense)            (None, 128)               8320      \n",
            "                                                                 \n",
            " dense_33 (Dense)            (None, 256)               33024     \n",
            "                                                                 \n",
            " dense_34 (Dense)            (None, 512)               131584    \n",
            "                                                                 \n",
            " dropout_8 (Dropout)         (None, 512)               0         \n",
            "                                                                 \n",
            " dense_35 (Dense)            (None, 30)                15390     \n",
            "                                                                 \n",
            "=================================================================\n",
            "Total params: 196,510\n",
            "Trainable params: 196,510\n",
            "Non-trainable params: 0\n",
            "_________________________________________________________________\n"
          ]
        }
      ]
    },
    {
      "cell_type": "code",
      "source": [
        "targets = df[df.columns[0:30]]\n",
        "targets = targets.values"
      ],
      "metadata": {
        "id": "ValhSb_4dnDZ"
      },
      "execution_count": null,
      "outputs": []
    },
    {
      "cell_type": "code",
      "source": [
        "model.compile(loss='mean_squared_error',optimizer='adam', metrics=['mae','mse'])\n",
        "model.fit(images,targets, epochs=100, validation_split=0.2, batch_size= 16, shuffle = True, verbose = 0)"
      ],
      "metadata": {
        "colab": {
          "base_uri": "https://localhost:8080/"
        },
        "id": "pqeYbZ-ndSv1",
        "outputId": "63558460-7707-4ca8-bf81-12221fb6681a"
      },
      "execution_count": null,
      "outputs": [
        {
          "output_type": "execute_result",
          "data": {
            "text/plain": [
              "<keras.callbacks.History at 0x7f464292f1d0>"
            ]
          },
          "metadata": {},
          "execution_count": 112
        }
      ]
    },
    {
      "cell_type": "code",
      "source": [
        "model.evaluate(images, targets)\n",
        "preds = model.predict(images)\n"
      ],
      "metadata": {
        "colab": {
          "base_uri": "https://localhost:8080/"
        },
        "id": "z2XjWRMdfAeE",
        "outputId": "fa2ba8ec-fabe-4524-cefe-a6f46af8a829"
      },
      "execution_count": null,
      "outputs": [
        {
          "output_type": "stream",
          "name": "stdout",
          "text": [
            "32/32 [==============================] - 0s 5ms/step - loss: 17.8347 - mae: 3.1773 - mse: 17.8347\n"
          ]
        }
      ]
    },
    {
      "cell_type": "code",
      "source": [
        "model1.compile(loss='mean_squared_error',optimizer='adam', metrics=['mae','mse'])\n",
        "model1.fit(new_coords,targets, epochs=100, validation_split=0.2, batch_size= 16, shuffle = True, verbose = 0)"
      ],
      "metadata": {
        "colab": {
          "base_uri": "https://localhost:8080/"
        },
        "id": "f5PwJWeMeCX9",
        "outputId": "78d84c0a-8a1f-4001-fcad-c5d056cee1b1"
      },
      "execution_count": null,
      "outputs": [
        {
          "output_type": "execute_result",
          "data": {
            "text/plain": [
              "<keras.callbacks.History at 0x7f46428558d0>"
            ]
          },
          "metadata": {},
          "execution_count": 114
        }
      ]
    },
    {
      "cell_type": "code",
      "source": [
        "model1.evaluate(new_coords, targets)\n",
        "preds1 = model1.predict(new_coords)"
      ],
      "metadata": {
        "colab": {
          "base_uri": "https://localhost:8080/"
        },
        "id": "5UrWUxCUfUHu",
        "outputId": "3c7dc9cf-f44f-4fa2-e1cf-2894b53ba760"
      },
      "execution_count": null,
      "outputs": [
        {
          "output_type": "stream",
          "name": "stdout",
          "text": [
            "32/32 [==============================] - 0s 2ms/step - loss: 8.3691 - mae: 2.0191 - mse: 8.3691\n"
          ]
        }
      ]
    },
    {
      "cell_type": "code",
      "source": [
        "from sklearn.metrics import mean_squared_error\n",
        "orig_score = mean_squared_error(targets,preds)\n",
        "pca_score = mean_squared_error(targets,preds1)"
      ],
      "metadata": {
        "id": "vV-7tMiTgygc"
      },
      "execution_count": null,
      "outputs": []
    },
    {
      "cell_type": "code",
      "source": [
        "print(\"the mean squared error using the original data set is \", orig_score)\n",
        "print(\"where as the mean squared error using the pca dataset is \", pca_score)"
      ],
      "metadata": {
        "colab": {
          "base_uri": "https://localhost:8080/"
        },
        "id": "nfRqMWuKhAYN",
        "outputId": "0105e5b0-bf30-45d4-dab2-3a48e15cbaa4"
      },
      "execution_count": null,
      "outputs": [
        {
          "output_type": "stream",
          "name": "stdout",
          "text": [
            "the mean squared error using the original data set is  17.83465518080478\n",
            "where as the mean squared error using the pca dataset is  8.369063292728972\n"
          ]
        }
      ]
    },
    {
      "cell_type": "markdown",
      "source": [
        "it looks like my pca score was actually the better model"
      ],
      "metadata": {
        "id": "zONLQcoLjuB9"
      }
    }
  ]
}